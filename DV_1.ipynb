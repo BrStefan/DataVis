{
  "nbformat": 4,
  "nbformat_minor": 0,
  "metadata": {
    "colab": {
      "name": "DV_1",
      "provenance": []
    },
    "kernelspec": {
      "name": "python3",
      "display_name": "Python 3"
    },
    "language_info": {
      "name": "python"
    }
  },
  "cells": [
    {
      "cell_type": "code",
      "execution_count": 43,
      "metadata": {
        "id": "S3zPy86o5EQr"
      },
      "outputs": [],
      "source": [
        "import pandas as pd\n",
        "import seaborn as sns\n",
        "import matplotlib.pyplot as plt\n"
      ]
    },
    {
      "cell_type": "code",
      "source": [
        "df= pd.read_csv('/content/heart.csv')\n",
        "print(\"Sample of the first 10 rows of the table\\n\\n\")\n",
        "df.head(10)\n"
      ],
      "metadata": {
        "colab": {
          "base_uri": "https://localhost:8080/",
          "height": 418
        },
        "id": "D3uQaX1C9Ddi",
        "outputId": "07c8b1e8-c6bd-4b27-b04f-f92299f73ab7"
      },
      "execution_count": 44,
      "outputs": [
        {
          "output_type": "stream",
          "name": "stdout",
          "text": [
            "Sample of the first 10 rows of the table\n",
            "\n",
            "\n"
          ]
        },
        {
          "output_type": "execute_result",
          "data": {
            "text/plain": [
              "   Age Sex ChestPainType  RestingBP  Cholesterol  FastingBS RestingECG  MaxHR  \\\n",
              "0   40   M           ATA        140          289          0     Normal    172   \n",
              "1   49   F           NAP        160          180          0     Normal    156   \n",
              "2   37   M           ATA        130          283          0         ST     98   \n",
              "3   48   F           ASY        138          214          0     Normal    108   \n",
              "4   54   M           NAP        150          195          0     Normal    122   \n",
              "5   39   M           NAP        120          339          0     Normal    170   \n",
              "6   45   F           ATA        130          237          0     Normal    170   \n",
              "7   54   M           ATA        110          208          0     Normal    142   \n",
              "8   37   M           ASY        140          207          0     Normal    130   \n",
              "9   48   F           ATA        120          284          0     Normal    120   \n",
              "\n",
              "  ExerciseAngina  Oldpeak ST_Slope  HeartDisease  \n",
              "0              N      0.0       Up             0  \n",
              "1              N      1.0     Flat             1  \n",
              "2              N      0.0       Up             0  \n",
              "3              Y      1.5     Flat             1  \n",
              "4              N      0.0       Up             0  \n",
              "5              N      0.0       Up             0  \n",
              "6              N      0.0       Up             0  \n",
              "7              N      0.0       Up             0  \n",
              "8              Y      1.5     Flat             1  \n",
              "9              N      0.0       Up             0  "
            ],
            "text/html": [
              "\n",
              "  <div id=\"df-aecaed2d-6235-44d6-8658-6324189284a2\">\n",
              "    <div class=\"colab-df-container\">\n",
              "      <div>\n",
              "<style scoped>\n",
              "    .dataframe tbody tr th:only-of-type {\n",
              "        vertical-align: middle;\n",
              "    }\n",
              "\n",
              "    .dataframe tbody tr th {\n",
              "        vertical-align: top;\n",
              "    }\n",
              "\n",
              "    .dataframe thead th {\n",
              "        text-align: right;\n",
              "    }\n",
              "</style>\n",
              "<table border=\"1\" class=\"dataframe\">\n",
              "  <thead>\n",
              "    <tr style=\"text-align: right;\">\n",
              "      <th></th>\n",
              "      <th>Age</th>\n",
              "      <th>Sex</th>\n",
              "      <th>ChestPainType</th>\n",
              "      <th>RestingBP</th>\n",
              "      <th>Cholesterol</th>\n",
              "      <th>FastingBS</th>\n",
              "      <th>RestingECG</th>\n",
              "      <th>MaxHR</th>\n",
              "      <th>ExerciseAngina</th>\n",
              "      <th>Oldpeak</th>\n",
              "      <th>ST_Slope</th>\n",
              "      <th>HeartDisease</th>\n",
              "    </tr>\n",
              "  </thead>\n",
              "  <tbody>\n",
              "    <tr>\n",
              "      <th>0</th>\n",
              "      <td>40</td>\n",
              "      <td>M</td>\n",
              "      <td>ATA</td>\n",
              "      <td>140</td>\n",
              "      <td>289</td>\n",
              "      <td>0</td>\n",
              "      <td>Normal</td>\n",
              "      <td>172</td>\n",
              "      <td>N</td>\n",
              "      <td>0.0</td>\n",
              "      <td>Up</td>\n",
              "      <td>0</td>\n",
              "    </tr>\n",
              "    <tr>\n",
              "      <th>1</th>\n",
              "      <td>49</td>\n",
              "      <td>F</td>\n",
              "      <td>NAP</td>\n",
              "      <td>160</td>\n",
              "      <td>180</td>\n",
              "      <td>0</td>\n",
              "      <td>Normal</td>\n",
              "      <td>156</td>\n",
              "      <td>N</td>\n",
              "      <td>1.0</td>\n",
              "      <td>Flat</td>\n",
              "      <td>1</td>\n",
              "    </tr>\n",
              "    <tr>\n",
              "      <th>2</th>\n",
              "      <td>37</td>\n",
              "      <td>M</td>\n",
              "      <td>ATA</td>\n",
              "      <td>130</td>\n",
              "      <td>283</td>\n",
              "      <td>0</td>\n",
              "      <td>ST</td>\n",
              "      <td>98</td>\n",
              "      <td>N</td>\n",
              "      <td>0.0</td>\n",
              "      <td>Up</td>\n",
              "      <td>0</td>\n",
              "    </tr>\n",
              "    <tr>\n",
              "      <th>3</th>\n",
              "      <td>48</td>\n",
              "      <td>F</td>\n",
              "      <td>ASY</td>\n",
              "      <td>138</td>\n",
              "      <td>214</td>\n",
              "      <td>0</td>\n",
              "      <td>Normal</td>\n",
              "      <td>108</td>\n",
              "      <td>Y</td>\n",
              "      <td>1.5</td>\n",
              "      <td>Flat</td>\n",
              "      <td>1</td>\n",
              "    </tr>\n",
              "    <tr>\n",
              "      <th>4</th>\n",
              "      <td>54</td>\n",
              "      <td>M</td>\n",
              "      <td>NAP</td>\n",
              "      <td>150</td>\n",
              "      <td>195</td>\n",
              "      <td>0</td>\n",
              "      <td>Normal</td>\n",
              "      <td>122</td>\n",
              "      <td>N</td>\n",
              "      <td>0.0</td>\n",
              "      <td>Up</td>\n",
              "      <td>0</td>\n",
              "    </tr>\n",
              "    <tr>\n",
              "      <th>5</th>\n",
              "      <td>39</td>\n",
              "      <td>M</td>\n",
              "      <td>NAP</td>\n",
              "      <td>120</td>\n",
              "      <td>339</td>\n",
              "      <td>0</td>\n",
              "      <td>Normal</td>\n",
              "      <td>170</td>\n",
              "      <td>N</td>\n",
              "      <td>0.0</td>\n",
              "      <td>Up</td>\n",
              "      <td>0</td>\n",
              "    </tr>\n",
              "    <tr>\n",
              "      <th>6</th>\n",
              "      <td>45</td>\n",
              "      <td>F</td>\n",
              "      <td>ATA</td>\n",
              "      <td>130</td>\n",
              "      <td>237</td>\n",
              "      <td>0</td>\n",
              "      <td>Normal</td>\n",
              "      <td>170</td>\n",
              "      <td>N</td>\n",
              "      <td>0.0</td>\n",
              "      <td>Up</td>\n",
              "      <td>0</td>\n",
              "    </tr>\n",
              "    <tr>\n",
              "      <th>7</th>\n",
              "      <td>54</td>\n",
              "      <td>M</td>\n",
              "      <td>ATA</td>\n",
              "      <td>110</td>\n",
              "      <td>208</td>\n",
              "      <td>0</td>\n",
              "      <td>Normal</td>\n",
              "      <td>142</td>\n",
              "      <td>N</td>\n",
              "      <td>0.0</td>\n",
              "      <td>Up</td>\n",
              "      <td>0</td>\n",
              "    </tr>\n",
              "    <tr>\n",
              "      <th>8</th>\n",
              "      <td>37</td>\n",
              "      <td>M</td>\n",
              "      <td>ASY</td>\n",
              "      <td>140</td>\n",
              "      <td>207</td>\n",
              "      <td>0</td>\n",
              "      <td>Normal</td>\n",
              "      <td>130</td>\n",
              "      <td>Y</td>\n",
              "      <td>1.5</td>\n",
              "      <td>Flat</td>\n",
              "      <td>1</td>\n",
              "    </tr>\n",
              "    <tr>\n",
              "      <th>9</th>\n",
              "      <td>48</td>\n",
              "      <td>F</td>\n",
              "      <td>ATA</td>\n",
              "      <td>120</td>\n",
              "      <td>284</td>\n",
              "      <td>0</td>\n",
              "      <td>Normal</td>\n",
              "      <td>120</td>\n",
              "      <td>N</td>\n",
              "      <td>0.0</td>\n",
              "      <td>Up</td>\n",
              "      <td>0</td>\n",
              "    </tr>\n",
              "  </tbody>\n",
              "</table>\n",
              "</div>\n",
              "      <button class=\"colab-df-convert\" onclick=\"convertToInteractive('df-aecaed2d-6235-44d6-8658-6324189284a2')\"\n",
              "              title=\"Convert this dataframe to an interactive table.\"\n",
              "              style=\"display:none;\">\n",
              "        \n",
              "  <svg xmlns=\"http://www.w3.org/2000/svg\" height=\"24px\"viewBox=\"0 0 24 24\"\n",
              "       width=\"24px\">\n",
              "    <path d=\"M0 0h24v24H0V0z\" fill=\"none\"/>\n",
              "    <path d=\"M18.56 5.44l.94 2.06.94-2.06 2.06-.94-2.06-.94-.94-2.06-.94 2.06-2.06.94zm-11 1L8.5 8.5l.94-2.06 2.06-.94-2.06-.94L8.5 2.5l-.94 2.06-2.06.94zm10 10l.94 2.06.94-2.06 2.06-.94-2.06-.94-.94-2.06-.94 2.06-2.06.94z\"/><path d=\"M17.41 7.96l-1.37-1.37c-.4-.4-.92-.59-1.43-.59-.52 0-1.04.2-1.43.59L10.3 9.45l-7.72 7.72c-.78.78-.78 2.05 0 2.83L4 21.41c.39.39.9.59 1.41.59.51 0 1.02-.2 1.41-.59l7.78-7.78 2.81-2.81c.8-.78.8-2.07 0-2.86zM5.41 20L4 18.59l7.72-7.72 1.47 1.35L5.41 20z\"/>\n",
              "  </svg>\n",
              "      </button>\n",
              "      \n",
              "  <style>\n",
              "    .colab-df-container {\n",
              "      display:flex;\n",
              "      flex-wrap:wrap;\n",
              "      gap: 12px;\n",
              "    }\n",
              "\n",
              "    .colab-df-convert {\n",
              "      background-color: #E8F0FE;\n",
              "      border: none;\n",
              "      border-radius: 50%;\n",
              "      cursor: pointer;\n",
              "      display: none;\n",
              "      fill: #1967D2;\n",
              "      height: 32px;\n",
              "      padding: 0 0 0 0;\n",
              "      width: 32px;\n",
              "    }\n",
              "\n",
              "    .colab-df-convert:hover {\n",
              "      background-color: #E2EBFA;\n",
              "      box-shadow: 0px 1px 2px rgba(60, 64, 67, 0.3), 0px 1px 3px 1px rgba(60, 64, 67, 0.15);\n",
              "      fill: #174EA6;\n",
              "    }\n",
              "\n",
              "    [theme=dark] .colab-df-convert {\n",
              "      background-color: #3B4455;\n",
              "      fill: #D2E3FC;\n",
              "    }\n",
              "\n",
              "    [theme=dark] .colab-df-convert:hover {\n",
              "      background-color: #434B5C;\n",
              "      box-shadow: 0px 1px 3px 1px rgba(0, 0, 0, 0.15);\n",
              "      filter: drop-shadow(0px 1px 2px rgba(0, 0, 0, 0.3));\n",
              "      fill: #FFFFFF;\n",
              "    }\n",
              "  </style>\n",
              "\n",
              "      <script>\n",
              "        const buttonEl =\n",
              "          document.querySelector('#df-aecaed2d-6235-44d6-8658-6324189284a2 button.colab-df-convert');\n",
              "        buttonEl.style.display =\n",
              "          google.colab.kernel.accessAllowed ? 'block' : 'none';\n",
              "\n",
              "        async function convertToInteractive(key) {\n",
              "          const element = document.querySelector('#df-aecaed2d-6235-44d6-8658-6324189284a2');\n",
              "          const dataTable =\n",
              "            await google.colab.kernel.invokeFunction('convertToInteractive',\n",
              "                                                     [key], {});\n",
              "          if (!dataTable) return;\n",
              "\n",
              "          const docLinkHtml = 'Like what you see? Visit the ' +\n",
              "            '<a target=\"_blank\" href=https://colab.research.google.com/notebooks/data_table.ipynb>data table notebook</a>'\n",
              "            + ' to learn more about interactive tables.';\n",
              "          element.innerHTML = '';\n",
              "          dataTable['output_type'] = 'display_data';\n",
              "          await google.colab.output.renderOutput(dataTable, element);\n",
              "          const docLink = document.createElement('div');\n",
              "          docLink.innerHTML = docLinkHtml;\n",
              "          element.appendChild(docLink);\n",
              "        }\n",
              "      </script>\n",
              "    </div>\n",
              "  </div>\n",
              "  "
            ]
          },
          "metadata": {},
          "execution_count": 44
        }
      ]
    },
    {
      "cell_type": "code",
      "source": [
        "print(f\"Number of records in the dataset ready to be processed: {df.shape[0]}\")\n",
        "print(f\"Number of details per record in the dataset ready to describe: {df.shape[1]}\")"
      ],
      "metadata": {
        "colab": {
          "base_uri": "https://localhost:8080/"
        },
        "id": "ZtWKN0ED9aQE",
        "outputId": "8045aed7-9146-452c-fef5-baa4623de2a5"
      },
      "execution_count": 45,
      "outputs": [
        {
          "output_type": "stream",
          "name": "stdout",
          "text": [
            "Number of records in the dataset ready to be processed: 918\n",
            "Number of details per record in the dataset ready to describe: 12\n"
          ]
        }
      ]
    },
    {
      "cell_type": "code",
      "source": [
        "df.info(memory_usage='deep')"
      ],
      "metadata": {
        "colab": {
          "base_uri": "https://localhost:8080/"
        },
        "id": "YW1chb329Usr",
        "outputId": "fd9ecd80-6e5e-41a9-fd24-4e6609e725de"
      },
      "execution_count": 46,
      "outputs": [
        {
          "output_type": "stream",
          "name": "stdout",
          "text": [
            "<class 'pandas.core.frame.DataFrame'>\n",
            "RangeIndex: 918 entries, 0 to 917\n",
            "Data columns (total 12 columns):\n",
            " #   Column          Non-Null Count  Dtype  \n",
            "---  ------          --------------  -----  \n",
            " 0   Age             918 non-null    int64  \n",
            " 1   Sex             918 non-null    object \n",
            " 2   ChestPainType   918 non-null    object \n",
            " 3   RestingBP       918 non-null    int64  \n",
            " 4   Cholesterol     918 non-null    int64  \n",
            " 5   FastingBS       918 non-null    int64  \n",
            " 6   RestingECG      918 non-null    object \n",
            " 7   MaxHR           918 non-null    int64  \n",
            " 8   ExerciseAngina  918 non-null    object \n",
            " 9   Oldpeak         918 non-null    float64\n",
            " 10  ST_Slope        918 non-null    object \n",
            " 11  HeartDisease    918 non-null    int64  \n",
            "dtypes: float64(1), int64(6), object(5)\n",
            "memory usage: 331.6 KB\n"
          ]
        }
      ]
    },
    {
      "cell_type": "markdown",
      "source": [
        "\n",
        "\n",
        "1. As the presented dataframe contains columns that are non-null values, we can skip the step where we need to take care of the missing values\n",
        "2. Further, we will change a bit the datatypes of the dataframe, splitting them into 2 (categorical variables and numerical)"
      ],
      "metadata": {
        "id": "6-k44u-kCzUQ"
      }
    },
    {
      "cell_type": "code",
      "source": [
        "df = df.astype({'HeartDisease': 'category',\n",
        "           'FastingBS': 'category'})\n",
        "df['HeartDisease'] = df['HeartDisease'].cat.rename_categories({1: 'Yes', 0: 'No'})"
      ],
      "metadata": {
        "id": "TaNaAefVGngZ"
      },
      "execution_count": 47,
      "outputs": []
    },
    {
      "cell_type": "code",
      "source": [
        "number_dataTypes = ['int16', 'int32', 'int64', 'float16', 'float32', 'float64']\n",
        "numericals = df.select_dtypes(include=number_dataTypes).columns\n",
        "print(\"Columns that hold numerical data are: \")\n",
        "for item in numericals:\n",
        "  print(item)"
      ],
      "metadata": {
        "colab": {
          "base_uri": "https://localhost:8080/"
        },
        "id": "yZ9NGs6JIlzE",
        "outputId": "7388b8dd-87e9-4708-d2cc-45de85593d75"
      },
      "execution_count": 48,
      "outputs": [
        {
          "output_type": "stream",
          "name": "stdout",
          "text": [
            "Columns that hold numerical data are: \n",
            "Age\n",
            "RestingBP\n",
            "Cholesterol\n",
            "MaxHR\n",
            "Oldpeak\n"
          ]
        }
      ]
    },
    {
      "cell_type": "code",
      "source": [
        "category_dataTypes = ['object', 'category']\n",
        "categoricals = df.select_dtypes(include=category_dataTypes).columns\n",
        "print(\"Columns that hold categorical data are: \")\n",
        "for item in categoricals:\n",
        "  print(item)"
      ],
      "metadata": {
        "colab": {
          "base_uri": "https://localhost:8080/"
        },
        "id": "42nyF7o4JEnu",
        "outputId": "9f3efd1f-4760-4e84-f6b7-28c59eaf0bc9"
      },
      "execution_count": 49,
      "outputs": [
        {
          "output_type": "stream",
          "name": "stdout",
          "text": [
            "Columns that hold categorical data are: \n",
            "Sex\n",
            "ChestPainType\n",
            "FastingBS\n",
            "RestingECG\n",
            "ExerciseAngina\n",
            "ST_Slope\n",
            "HeartDisease\n"
          ]
        }
      ]
    },
    {
      "cell_type": "code",
      "source": [
        "print(\"Describing statistical variables for the numeric columns:\")\n",
        "df.describe().T.style.background_gradient(cmap = \"Reds\")"
      ],
      "metadata": {
        "colab": {
          "base_uri": "https://localhost:8080/",
          "height": 225
        },
        "id": "r8VY0EcUe84K",
        "outputId": "d66e663c-f9ca-4864-b197-712f81762f11"
      },
      "execution_count": 50,
      "outputs": [
        {
          "output_type": "stream",
          "name": "stdout",
          "text": [
            "Describing statistical variables for the numeric columns:\n"
          ]
        },
        {
          "output_type": "execute_result",
          "data": {
            "text/plain": [
              "<pandas.io.formats.style.Styler at 0x7f3853554990>"
            ],
            "text/html": [
              "<style type=\"text/css\">\n",
              "#T_69191_row0_col0, #T_69191_row1_col0, #T_69191_row2_col0, #T_69191_row3_col0, #T_69191_row4_col0, #T_69191_row4_col1, #T_69191_row4_col2, #T_69191_row4_col3, #T_69191_row4_col4, #T_69191_row4_col5, #T_69191_row4_col6, #T_69191_row4_col7 {\n",
              "  background-color: #fff5f0;\n",
              "  color: #000000;\n",
              "}\n",
              "#T_69191_row0_col1 {\n",
              "  background-color: #fcb69b;\n",
              "  color: #000000;\n",
              "}\n",
              "#T_69191_row0_col2 {\n",
              "  background-color: #fee8de;\n",
              "  color: #000000;\n",
              "}\n",
              "#T_69191_row0_col3 {\n",
              "  background-color: #fb6d4d;\n",
              "  color: #f1f1f1;\n",
              "}\n",
              "#T_69191_row0_col4 {\n",
              "  background-color: #fcb499;\n",
              "  color: #000000;\n",
              "}\n",
              "#T_69191_row0_col5 {\n",
              "  background-color: #fcbea5;\n",
              "  color: #000000;\n",
              "}\n",
              "#T_69191_row0_col6 {\n",
              "  background-color: #fcc4ad;\n",
              "  color: #000000;\n",
              "}\n",
              "#T_69191_row0_col7 {\n",
              "  background-color: #fee1d4;\n",
              "  color: #000000;\n",
              "}\n",
              "#T_69191_row1_col1 {\n",
              "  background-color: #e32f27;\n",
              "  color: #f1f1f1;\n",
              "}\n",
              "#T_69191_row1_col2 {\n",
              "  background-color: #fdd5c4;\n",
              "  color: #000000;\n",
              "}\n",
              "#T_69191_row1_col3, #T_69191_row2_col3 {\n",
              "  background-color: #ffeee7;\n",
              "  color: #000000;\n",
              "}\n",
              "#T_69191_row1_col4, #T_69191_row3_col4 {\n",
              "  background-color: #db2824;\n",
              "  color: #f1f1f1;\n",
              "}\n",
              "#T_69191_row1_col5, #T_69191_row3_col6 {\n",
              "  background-color: #f34c37;\n",
              "  color: #f1f1f1;\n",
              "}\n",
              "#T_69191_row1_col6 {\n",
              "  background-color: #f96245;\n",
              "  color: #f1f1f1;\n",
              "}\n",
              "#T_69191_row1_col7, #T_69191_row3_col7 {\n",
              "  background-color: #fca285;\n",
              "  color: #000000;\n",
              "}\n",
              "#T_69191_row2_col1, #T_69191_row2_col2, #T_69191_row2_col4, #T_69191_row2_col5, #T_69191_row2_col6, #T_69191_row2_col7, #T_69191_row3_col3 {\n",
              "  background-color: #67000d;\n",
              "  color: #f1f1f1;\n",
              "}\n",
              "#T_69191_row3_col1 {\n",
              "  background-color: #dd2a25;\n",
              "  color: #f1f1f1;\n",
              "}\n",
              "#T_69191_row3_col2 {\n",
              "  background-color: #fcc3ab;\n",
              "  color: #000000;\n",
              "}\n",
              "#T_69191_row3_col5 {\n",
              "  background-color: #f03d2d;\n",
              "  color: #f1f1f1;\n",
              "}\n",
              "</style>\n",
              "<table id=\"T_69191_\" class=\"dataframe\">\n",
              "  <thead>\n",
              "    <tr>\n",
              "      <th class=\"blank level0\" >&nbsp;</th>\n",
              "      <th class=\"col_heading level0 col0\" >count</th>\n",
              "      <th class=\"col_heading level0 col1\" >mean</th>\n",
              "      <th class=\"col_heading level0 col2\" >std</th>\n",
              "      <th class=\"col_heading level0 col3\" >min</th>\n",
              "      <th class=\"col_heading level0 col4\" >25%</th>\n",
              "      <th class=\"col_heading level0 col5\" >50%</th>\n",
              "      <th class=\"col_heading level0 col6\" >75%</th>\n",
              "      <th class=\"col_heading level0 col7\" >max</th>\n",
              "    </tr>\n",
              "  </thead>\n",
              "  <tbody>\n",
              "    <tr>\n",
              "      <th id=\"T_69191_level0_row0\" class=\"row_heading level0 row0\" >Age</th>\n",
              "      <td id=\"T_69191_row0_col0\" class=\"data row0 col0\" >918.000000</td>\n",
              "      <td id=\"T_69191_row0_col1\" class=\"data row0 col1\" >53.510893</td>\n",
              "      <td id=\"T_69191_row0_col2\" class=\"data row0 col2\" >9.432617</td>\n",
              "      <td id=\"T_69191_row0_col3\" class=\"data row0 col3\" >28.000000</td>\n",
              "      <td id=\"T_69191_row0_col4\" class=\"data row0 col4\" >47.000000</td>\n",
              "      <td id=\"T_69191_row0_col5\" class=\"data row0 col5\" >54.000000</td>\n",
              "      <td id=\"T_69191_row0_col6\" class=\"data row0 col6\" >60.000000</td>\n",
              "      <td id=\"T_69191_row0_col7\" class=\"data row0 col7\" >77.000000</td>\n",
              "    </tr>\n",
              "    <tr>\n",
              "      <th id=\"T_69191_level0_row1\" class=\"row_heading level0 row1\" >RestingBP</th>\n",
              "      <td id=\"T_69191_row1_col0\" class=\"data row1 col0\" >918.000000</td>\n",
              "      <td id=\"T_69191_row1_col1\" class=\"data row1 col1\" >132.396514</td>\n",
              "      <td id=\"T_69191_row1_col2\" class=\"data row1 col2\" >18.514154</td>\n",
              "      <td id=\"T_69191_row1_col3\" class=\"data row1 col3\" >0.000000</td>\n",
              "      <td id=\"T_69191_row1_col4\" class=\"data row1 col4\" >120.000000</td>\n",
              "      <td id=\"T_69191_row1_col5\" class=\"data row1 col5\" >130.000000</td>\n",
              "      <td id=\"T_69191_row1_col6\" class=\"data row1 col6\" >140.000000</td>\n",
              "      <td id=\"T_69191_row1_col7\" class=\"data row1 col7\" >200.000000</td>\n",
              "    </tr>\n",
              "    <tr>\n",
              "      <th id=\"T_69191_level0_row2\" class=\"row_heading level0 row2\" >Cholesterol</th>\n",
              "      <td id=\"T_69191_row2_col0\" class=\"data row2 col0\" >918.000000</td>\n",
              "      <td id=\"T_69191_row2_col1\" class=\"data row2 col1\" >198.799564</td>\n",
              "      <td id=\"T_69191_row2_col2\" class=\"data row2 col2\" >109.384145</td>\n",
              "      <td id=\"T_69191_row2_col3\" class=\"data row2 col3\" >0.000000</td>\n",
              "      <td id=\"T_69191_row2_col4\" class=\"data row2 col4\" >173.250000</td>\n",
              "      <td id=\"T_69191_row2_col5\" class=\"data row2 col5\" >223.000000</td>\n",
              "      <td id=\"T_69191_row2_col6\" class=\"data row2 col6\" >267.000000</td>\n",
              "      <td id=\"T_69191_row2_col7\" class=\"data row2 col7\" >603.000000</td>\n",
              "    </tr>\n",
              "    <tr>\n",
              "      <th id=\"T_69191_level0_row3\" class=\"row_heading level0 row3\" >MaxHR</th>\n",
              "      <td id=\"T_69191_row3_col0\" class=\"data row3 col0\" >918.000000</td>\n",
              "      <td id=\"T_69191_row3_col1\" class=\"data row3 col1\" >136.809368</td>\n",
              "      <td id=\"T_69191_row3_col2\" class=\"data row3 col2\" >25.460334</td>\n",
              "      <td id=\"T_69191_row3_col3\" class=\"data row3 col3\" >60.000000</td>\n",
              "      <td id=\"T_69191_row3_col4\" class=\"data row3 col4\" >120.000000</td>\n",
              "      <td id=\"T_69191_row3_col5\" class=\"data row3 col5\" >138.000000</td>\n",
              "      <td id=\"T_69191_row3_col6\" class=\"data row3 col6\" >156.000000</td>\n",
              "      <td id=\"T_69191_row3_col7\" class=\"data row3 col7\" >202.000000</td>\n",
              "    </tr>\n",
              "    <tr>\n",
              "      <th id=\"T_69191_level0_row4\" class=\"row_heading level0 row4\" >Oldpeak</th>\n",
              "      <td id=\"T_69191_row4_col0\" class=\"data row4 col0\" >918.000000</td>\n",
              "      <td id=\"T_69191_row4_col1\" class=\"data row4 col1\" >0.887364</td>\n",
              "      <td id=\"T_69191_row4_col2\" class=\"data row4 col2\" >1.066570</td>\n",
              "      <td id=\"T_69191_row4_col3\" class=\"data row4 col3\" >-2.600000</td>\n",
              "      <td id=\"T_69191_row4_col4\" class=\"data row4 col4\" >0.000000</td>\n",
              "      <td id=\"T_69191_row4_col5\" class=\"data row4 col5\" >0.600000</td>\n",
              "      <td id=\"T_69191_row4_col6\" class=\"data row4 col6\" >1.500000</td>\n",
              "      <td id=\"T_69191_row4_col7\" class=\"data row4 col7\" >6.200000</td>\n",
              "    </tr>\n",
              "  </tbody>\n",
              "</table>\n"
            ]
          },
          "metadata": {},
          "execution_count": 50
        }
      ]
    },
    {
      "cell_type": "code",
      "source": [
        "print(\"Describing statistical variables for the categorical columns:\")\n",
        "df.describe(include = category_dataTypes).T"
      ],
      "metadata": {
        "colab": {
          "base_uri": "https://localhost:8080/",
          "height": 287
        },
        "id": "H4itk_TEgFW1",
        "outputId": "523ee6f0-0025-4694-f7f7-439602673fce"
      },
      "execution_count": 51,
      "outputs": [
        {
          "output_type": "stream",
          "name": "stdout",
          "text": [
            "Describing statistical variables for the categorical columns:\n"
          ]
        },
        {
          "output_type": "execute_result",
          "data": {
            "text/plain": [
              "               count unique     top freq\n",
              "Sex              918      2       M  725\n",
              "ChestPainType    918      4     ASY  496\n",
              "FastingBS        918      2       0  704\n",
              "RestingECG       918      3  Normal  552\n",
              "ExerciseAngina   918      2       N  547\n",
              "ST_Slope         918      3    Flat  460\n",
              "HeartDisease     918      2     Yes  508"
            ],
            "text/html": [
              "\n",
              "  <div id=\"df-2e64c712-f0e5-4556-a357-1781a9fe343a\">\n",
              "    <div class=\"colab-df-container\">\n",
              "      <div>\n",
              "<style scoped>\n",
              "    .dataframe tbody tr th:only-of-type {\n",
              "        vertical-align: middle;\n",
              "    }\n",
              "\n",
              "    .dataframe tbody tr th {\n",
              "        vertical-align: top;\n",
              "    }\n",
              "\n",
              "    .dataframe thead th {\n",
              "        text-align: right;\n",
              "    }\n",
              "</style>\n",
              "<table border=\"1\" class=\"dataframe\">\n",
              "  <thead>\n",
              "    <tr style=\"text-align: right;\">\n",
              "      <th></th>\n",
              "      <th>count</th>\n",
              "      <th>unique</th>\n",
              "      <th>top</th>\n",
              "      <th>freq</th>\n",
              "    </tr>\n",
              "  </thead>\n",
              "  <tbody>\n",
              "    <tr>\n",
              "      <th>Sex</th>\n",
              "      <td>918</td>\n",
              "      <td>2</td>\n",
              "      <td>M</td>\n",
              "      <td>725</td>\n",
              "    </tr>\n",
              "    <tr>\n",
              "      <th>ChestPainType</th>\n",
              "      <td>918</td>\n",
              "      <td>4</td>\n",
              "      <td>ASY</td>\n",
              "      <td>496</td>\n",
              "    </tr>\n",
              "    <tr>\n",
              "      <th>FastingBS</th>\n",
              "      <td>918</td>\n",
              "      <td>2</td>\n",
              "      <td>0</td>\n",
              "      <td>704</td>\n",
              "    </tr>\n",
              "    <tr>\n",
              "      <th>RestingECG</th>\n",
              "      <td>918</td>\n",
              "      <td>3</td>\n",
              "      <td>Normal</td>\n",
              "      <td>552</td>\n",
              "    </tr>\n",
              "    <tr>\n",
              "      <th>ExerciseAngina</th>\n",
              "      <td>918</td>\n",
              "      <td>2</td>\n",
              "      <td>N</td>\n",
              "      <td>547</td>\n",
              "    </tr>\n",
              "    <tr>\n",
              "      <th>ST_Slope</th>\n",
              "      <td>918</td>\n",
              "      <td>3</td>\n",
              "      <td>Flat</td>\n",
              "      <td>460</td>\n",
              "    </tr>\n",
              "    <tr>\n",
              "      <th>HeartDisease</th>\n",
              "      <td>918</td>\n",
              "      <td>2</td>\n",
              "      <td>Yes</td>\n",
              "      <td>508</td>\n",
              "    </tr>\n",
              "  </tbody>\n",
              "</table>\n",
              "</div>\n",
              "      <button class=\"colab-df-convert\" onclick=\"convertToInteractive('df-2e64c712-f0e5-4556-a357-1781a9fe343a')\"\n",
              "              title=\"Convert this dataframe to an interactive table.\"\n",
              "              style=\"display:none;\">\n",
              "        \n",
              "  <svg xmlns=\"http://www.w3.org/2000/svg\" height=\"24px\"viewBox=\"0 0 24 24\"\n",
              "       width=\"24px\">\n",
              "    <path d=\"M0 0h24v24H0V0z\" fill=\"none\"/>\n",
              "    <path d=\"M18.56 5.44l.94 2.06.94-2.06 2.06-.94-2.06-.94-.94-2.06-.94 2.06-2.06.94zm-11 1L8.5 8.5l.94-2.06 2.06-.94-2.06-.94L8.5 2.5l-.94 2.06-2.06.94zm10 10l.94 2.06.94-2.06 2.06-.94-2.06-.94-.94-2.06-.94 2.06-2.06.94z\"/><path d=\"M17.41 7.96l-1.37-1.37c-.4-.4-.92-.59-1.43-.59-.52 0-1.04.2-1.43.59L10.3 9.45l-7.72 7.72c-.78.78-.78 2.05 0 2.83L4 21.41c.39.39.9.59 1.41.59.51 0 1.02-.2 1.41-.59l7.78-7.78 2.81-2.81c.8-.78.8-2.07 0-2.86zM5.41 20L4 18.59l7.72-7.72 1.47 1.35L5.41 20z\"/>\n",
              "  </svg>\n",
              "      </button>\n",
              "      \n",
              "  <style>\n",
              "    .colab-df-container {\n",
              "      display:flex;\n",
              "      flex-wrap:wrap;\n",
              "      gap: 12px;\n",
              "    }\n",
              "\n",
              "    .colab-df-convert {\n",
              "      background-color: #E8F0FE;\n",
              "      border: none;\n",
              "      border-radius: 50%;\n",
              "      cursor: pointer;\n",
              "      display: none;\n",
              "      fill: #1967D2;\n",
              "      height: 32px;\n",
              "      padding: 0 0 0 0;\n",
              "      width: 32px;\n",
              "    }\n",
              "\n",
              "    .colab-df-convert:hover {\n",
              "      background-color: #E2EBFA;\n",
              "      box-shadow: 0px 1px 2px rgba(60, 64, 67, 0.3), 0px 1px 3px 1px rgba(60, 64, 67, 0.15);\n",
              "      fill: #174EA6;\n",
              "    }\n",
              "\n",
              "    [theme=dark] .colab-df-convert {\n",
              "      background-color: #3B4455;\n",
              "      fill: #D2E3FC;\n",
              "    }\n",
              "\n",
              "    [theme=dark] .colab-df-convert:hover {\n",
              "      background-color: #434B5C;\n",
              "      box-shadow: 0px 1px 3px 1px rgba(0, 0, 0, 0.15);\n",
              "      filter: drop-shadow(0px 1px 2px rgba(0, 0, 0, 0.3));\n",
              "      fill: #FFFFFF;\n",
              "    }\n",
              "  </style>\n",
              "\n",
              "      <script>\n",
              "        const buttonEl =\n",
              "          document.querySelector('#df-2e64c712-f0e5-4556-a357-1781a9fe343a button.colab-df-convert');\n",
              "        buttonEl.style.display =\n",
              "          google.colab.kernel.accessAllowed ? 'block' : 'none';\n",
              "\n",
              "        async function convertToInteractive(key) {\n",
              "          const element = document.querySelector('#df-2e64c712-f0e5-4556-a357-1781a9fe343a');\n",
              "          const dataTable =\n",
              "            await google.colab.kernel.invokeFunction('convertToInteractive',\n",
              "                                                     [key], {});\n",
              "          if (!dataTable) return;\n",
              "\n",
              "          const docLinkHtml = 'Like what you see? Visit the ' +\n",
              "            '<a target=\"_blank\" href=https://colab.research.google.com/notebooks/data_table.ipynb>data table notebook</a>'\n",
              "            + ' to learn more about interactive tables.';\n",
              "          element.innerHTML = '';\n",
              "          dataTable['output_type'] = 'display_data';\n",
              "          await google.colab.output.renderOutput(dataTable, element);\n",
              "          const docLink = document.createElement('div');\n",
              "          docLink.innerHTML = docLinkHtml;\n",
              "          element.appendChild(docLink);\n",
              "        }\n",
              "      </script>\n",
              "    </div>\n",
              "  </div>\n",
              "  "
            ]
          },
          "metadata": {},
          "execution_count": 51
        }
      ]
    },
    {
      "cell_type": "code",
      "source": [
        "def pie_charts(feature, target):\n",
        "    colors = sns.color_palette('colorblind')[0:5]\n",
        "    fig,axes = plt.subplots(1,1,figsize=(8,6))\n",
        "    labels = df[feature].unique()\n",
        "    textprops = {\"fontsize\":17}\n",
        "\n",
        "    axes.pie(df[df[target]==\"Yes\"][feature].value_counts(),colors=colors, labels=labels,autopct='%1.2f%%',textprops =textprops)\n",
        "    axes.set_title(f'Percent of people that suffered a {target} based on {feature}',fontsize=13)\n",
        "\n",
        "    plt.show()"
      ],
      "metadata": {
        "id": "un1h4HShgnH8"
      },
      "execution_count": 52,
      "outputs": []
    },
    {
      "cell_type": "code",
      "source": [
        "binary_feature = [\"ExerciseAngina\", \"FastingBS\", \"Sex\"]\n",
        "for feature in binary_feature:\n",
        "    pie_charts(feature,\"HeartDisease\")"
      ],
      "metadata": {
        "colab": {
          "base_uri": "https://localhost:8080/",
          "height": 1000
        },
        "id": "q2H3en_FR-cV",
        "outputId": "5d92461e-2aa0-4146-eb3f-53c38ef522ad"
      },
      "execution_count": 53,
      "outputs": [
        {
          "output_type": "display_data",
          "data": {
            "text/plain": [
              "<Figure size 576x432 with 1 Axes>"
            ],
            "image/png": "[encoded data removed]"
          },
          "metadata": {}
        },
        {
          "output_type": "display_data",
          "data": {
            "text/plain": [
              "<Figure size 576x432 with 1 Axes>"
            ],
            "image/png": "[encoded data removed]"
          },
          "metadata": {}
        },
        {
          "output_type": "display_data",
          "data": {
            "text/plain": [
              "<Figure size 576x432 with 1 Axes>"
            ],
            "image/png": "[encoded data removed]"
          },
          "metadata": {}
        }
      ]
    },
    {
      "cell_type": "code",
      "source": [
        "def bar_charts(data, feature, target) :\n",
        "    sns.set(rc={'figure.figsize':(12,9)})\n",
        "    grouped_columns = sns.countplot(x=feature, hue=target, data=data,palette=[\"aqua\",\"red\"])\n",
        "    grouped_columns.set_title(f'Impact on different {feature} groups on having a {target}')"
      ],
      "metadata": {
        "id": "o7oMgxi0o7Ms"
      },
      "execution_count": 54,
      "outputs": []
    },
    {
      "cell_type": "code",
      "source": [
        "bar_charts(df, \"ST_Slope\", \"HeartDisease\")"
      ],
      "metadata": {
        "colab": {
          "base_uri": "https://localhost:8080/",
          "height": 573
        },
        "id": "uFAqu3pm4pdg",
        "outputId": "0657a6c2-4885-4ba2-ae79-08817f82aa8c"
      },
      "execution_count": 55,
      "outputs": [
        {
          "output_type": "display_data",
          "data": {
            "text/plain": [
              "<Figure size 864x648 with 1 Axes>"
            ],
            "image/png": "[encoded data removed]"
          },
          "metadata": {}
        }
      ]
    },
    {
      "cell_type": "code",
      "source": [
        "bar_charts(df, \"ChestPainType\", \"HeartDisease\")"
      ],
      "metadata": {
        "colab": {
          "base_uri": "https://localhost:8080/",
          "height": 573
        },
        "id": "pFFBOqSn80jR",
        "outputId": "21a41374-eac9-4c83-e817-c7139cf92aff"
      },
      "execution_count": 56,
      "outputs": [
        {
          "output_type": "display_data",
          "data": {
            "text/plain": [
              "<Figure size 864x648 with 1 Axes>"
            ],
            "image/png": "[encoded data removed]"
          },
          "metadata": {}
        }
      ]
    },
    {
      "cell_type": "code",
      "source": [
        "bar_charts(df, \"RestingECG\", \"HeartDisease\")"
      ],
      "metadata": {
        "colab": {
          "base_uri": "https://localhost:8080/",
          "height": 573
        },
        "id": "P55X6hh_9B_u",
        "outputId": "51b6d8d3-c157-49d3-8cdd-9a0ab31da401"
      },
      "execution_count": 57,
      "outputs": [
        {
          "output_type": "display_data",
          "data": {
            "text/plain": [
              "<Figure size 864x648 with 1 Axes>"
            ],
            "image/png": "[encoded data removed]"
          },
          "metadata": {}
        }
      ]
    }
  ]
}